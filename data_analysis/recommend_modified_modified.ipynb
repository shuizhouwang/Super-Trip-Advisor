{
 "cells": [
  {
   "cell_type": "code",
   "execution_count": 8,
   "metadata": {
    "collapsed": true
   },
   "outputs": [],
   "source": [
    "import pandas as pd"
   ]
  },
  {
   "cell_type": "code",
   "execution_count": 9,
   "metadata": {
    "collapsed": true
   },
   "outputs": [],
   "source": [
    "from math import sin, cos, sqrt, atan2, radians\n",
    "\n",
    "def recommend_location(time,lat,lon):\n",
    "    t=\"\"\n",
    "    if time==0:\n",
    "        t=\"00-01\"\n",
    "    elif time==2:\n",
    "        t=\"02-03\"\n",
    "    elif time==4:\n",
    "        t=\"04-05\"\n",
    "    elif time==6:\n",
    "        t=\"06-07\"\n",
    "    elif time==8:\n",
    "        t=\"08-09\"\n",
    "    elif time==10:\n",
    "        t=\"10-11\"\n",
    "    elif time==12:\n",
    "        t=\"12-13\"\n",
    "    elif time==14:\n",
    "        t=\"14-15\"\n",
    "    elif time==16:\n",
    "        t=\"16-17\"\n",
    "    elif time==18:\n",
    "        t=\"18-19\"\n",
    "    elif time==20:\n",
    "        t=\"20-21\"\n",
    "    elif time==22:\n",
    "        t=\"22-23\"\n",
    "    add=\"/Users/ruiminzhao/Desktop/bd/\"+t+\".csv\"\n",
    "    gdata = pd.read_csv(add)\n",
    "    geolong=pd.DataFrame(gdata['Pickup_longitude'])\n",
    "    geolat=pd.DataFrame(gdata['Pickup_latitude'])\n",
    "    geo = pd.DataFrame(gdata, columns = ['Pickup_longitude','Pickup_latitude'])\n",
    "    d=[]\n",
    "    i=0\n",
    "    for index, row in gdata.iterrows():\n",
    "        temp={}\n",
    "        temp['long']=row['Pickup_longitude']\n",
    "        temp['lat']=row['Pickup_latitude']\n",
    "        d.append(temp)\n",
    "        i=i+1\n",
    "        \n",
    "    m=100000\n",
    "    R=6373.0\n",
    "    lat1=radians(lat)\n",
    "    lon1=radians(lon)\n",
    "    for i in range (len(d)):\n",
    "        lat2_rec=d[i]['lat']\n",
    "        lon2_rec=d[i]['long']       \n",
    "        lat2=radians(d[i]['lat'])\n",
    "        lon2=radians(d[i]['long'])   \n",
    "        dlon = lon2 - lon1\n",
    "        dlat = lat2 - lat1\n",
    "\n",
    "        a = sin(dlat / 2)**2 + cos(lat1) * cos(lat2) * sin(dlon / 2)**2\n",
    "        c = 2 * atan2(sqrt(a), sqrt(1 - a))\n",
    "\n",
    "        distance = R * c\n",
    "        #print(distance)\n",
    "        if distance!=0 and distance<m:\n",
    "            lat_result=lat2_rec\n",
    "            lon_result=lon2_rec\n",
    "            m=distance\n",
    "            \n",
    "    result={}\n",
    "    result['lat']=lat_result\n",
    "    result['long']=lon_result\n",
    "    print(\"Result:\", m, \"km\")\n",
    "    print(\"Recommended Spot:\",result)"
   ]
  },
  {
   "cell_type": "code",
   "execution_count": 10,
   "metadata": {},
   "outputs": [
    {
     "name": "stdout",
     "output_type": "stream",
     "text": [
      "Result: 0.10978668283911788 km\n",
      "Recommended Spot: {'lat': 40.57549286, 'long': -73.98162079}\n"
     ]
    }
   ],
   "source": [
    "recommend_location(0,40.57543182,-73.98291779)"
   ]
  }
 ],
 "metadata": {
  "kernelspec": {
   "display_name": "Python 3",
   "language": "python",
   "name": "python3"
  },
  "language_info": {
   "codemirror_mode": {
    "name": "ipython",
    "version": 3
   },
   "file_extension": ".py",
   "mimetype": "text/x-python",
   "name": "python",
   "nbconvert_exporter": "python",
   "pygments_lexer": "ipython3",
   "version": "3.6.1"
  }
 },
 "nbformat": 4,
 "nbformat_minor": 2
}
