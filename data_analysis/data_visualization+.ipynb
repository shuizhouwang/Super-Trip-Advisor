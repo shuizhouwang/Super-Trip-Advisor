{
 "cells": [
  {
   "cell_type": "code",
   "execution_count": 52,
   "metadata": {
    "collapsed": true
   },
   "outputs": [],
   "source": [
    "import matplotlib.pyplot as plt; plt.rcdefaults()\n",
    "import numpy as np\n",
    "import matplotlib.pyplot as plt\n",
    "import matplotlib.image as mpimg\n",
    "import os\n",
    "import smtplib\n",
    "from email.mime.text import MIMEText\n",
    "from email.mime.image import MIMEImage\n",
    "from email.mime.multipart import MIMEMultipart\n",
    "import time\n",
    "\n",
    "def data_visulization(w,s):\n",
    "    localtime = time.asctime(time.localtime(time.time()))\n",
    "    a=w[0]\n",
    "    b=w[1]\n",
    "    c=w[2]\n",
    "    file_name='testtest.png'\n",
    "    objects = ('Minghao', 'Ruimin', 'Xiaoxiang')\n",
    "    y_pos = np.arange(len(objects))\n",
    "    performance = [a,b,c]\n",
    "    plt.bar(y_pos, performance, align='center', alpha=0.5)\n",
    "    plt.xticks(y_pos, objects)\n",
    "    plt.ylabel('Score')\n",
    "    plt.title(localtime+\" \"+s)\n",
    "    plt.savefig(file_name) \n",
    "    plt.close()\n",
    "    return file_name\n",
    "    \n",
    "def SendMail(ImgFileName):\n",
    "    img_data = open(ImgFileName, 'rb').read()\n",
    "    msg = MIMEMultipart()\n",
    "    msg['Subject'] = 'test'\n",
    "    msg['From'] = 'michaellee66666@gmail.com'\n",
    "    msg['To'] = 'minghao95@outlook.com'\n",
    "    fromm = 'michaellee66666@gmail.com'\n",
    "    to = 'minghao95@outlook.com'\n",
    "\n",
    "    text = MIMEText(\"test\")\n",
    "    msg.attach(text)\n",
    "    image = MIMEImage(img_data, name=os.path.basename(ImgFileName))\n",
    "    msg.attach(image)\n",
    "\n",
    "    usr='michaellee66666@gmail.com'\n",
    "    psw='Li7953810'\n",
    "\n",
    "    server=smtplib.SMTP('smtp.gmail.com:587')\n",
    "    #server.starttls()\n",
    "    #server.login(usr,psw)\n",
    "\n",
    "    server.ehlo()\n",
    "    server.starttls()\n",
    "    server.ehlo()\n",
    "    server.login(usr, psw)\n",
    "    server.sendmail(fromm, to, msg.as_string())\n",
    "    server.quit()"
   ]
  },
  {
   "cell_type": "code",
   "execution_count": 53,
   "metadata": {},
   "outputs": [],
   "source": [
    "w=[1.1,-0.8,-0.7]\n",
    "s=\"Alert! Stanger is coming in!\"\n",
    "w2=data_visulization(w,s)\n",
    "#SendMail(w2)"
   ]
  },
  {
   "cell_type": "code",
   "execution_count": null,
   "metadata": {
    "collapsed": true
   },
   "outputs": [],
   "source": []
  }
 ],
 "metadata": {
  "kernelspec": {
   "display_name": "Python 3",
   "language": "python",
   "name": "python3"
  },
  "language_info": {
   "codemirror_mode": {
    "name": "ipython",
    "version": 3
   },
   "file_extension": ".py",
   "mimetype": "text/x-python",
   "name": "python",
   "nbconvert_exporter": "python",
   "pygments_lexer": "ipython3",
   "version": "3.6.1"
  }
 },
 "nbformat": 4,
 "nbformat_minor": 2
}
