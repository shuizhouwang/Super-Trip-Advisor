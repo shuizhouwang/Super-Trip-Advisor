{
 "cells": [
  {
   "cell_type": "code",
   "execution_count": 1,
   "metadata": {
    "collapsed": true
   },
   "outputs": [],
   "source": [
    "import pandas as pd\n",
    "import requests\n",
    "import json"
   ]
  },
  {
   "cell_type": "code",
   "execution_count": 8,
   "metadata": {
    "collapsed": true
   },
   "outputs": [],
   "source": [
    "def return_weather(geo):\n",
    "    latstr=geo['lat']\n",
    "    lngstr=geo['long']\n",
    "    key = \"3977c6033ed34b1909d97411b8215e52\"\n",
    "    mid = \"&appid=\"\n",
    "    url = \"http://api.openweathermap.org/data/2.5/weather?\"\n",
    "    info = 'lat=' + latstr + '&lon=' + lngstr\n",
    "    url = url + info + mid + key \n",
    "    r = requests.get(url)\n",
    "    info=r.json()\n",
    "    weather = info[\"weather\"][0][\"description\"]\n",
    "    return weather"
   ]
  },
  {
   "cell_type": "code",
   "execution_count": 9,
   "metadata": {},
   "outputs": [
    {
     "name": "stdout",
     "output_type": "stream",
     "text": [
      "scattered clouds\n"
     ]
    }
   ],
   "source": [
    "d = return_weather({'lat':'40.71482849','long':'-73.95886993'})\n",
    "print(d)"
   ]
  },
  {
   "cell_type": "code",
   "execution_count": null,
   "metadata": {
    "collapsed": true
   },
   "outputs": [],
   "source": []
  }
 ],
 "metadata": {
  "kernelspec": {
   "display_name": "Python 3",
   "language": "python",
   "name": "python3"
  },
  "language_info": {
   "codemirror_mode": {
    "name": "ipython",
    "version": 3
   },
   "file_extension": ".py",
   "mimetype": "text/x-python",
   "name": "python",
   "nbconvert_exporter": "python",
   "pygments_lexer": "ipython3",
   "version": "3.6.1"
  }
 },
 "nbformat": 4,
 "nbformat_minor": 2
}
